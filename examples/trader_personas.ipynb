{
 "cells": [
  {
   "cell_type": "markdown",
   "metadata": {},
   "source": [
    "# Trading Agent Personas Demo\n",
    "This notebook demonstrates how to create and customize different trading agent personalities with varying strategies and risk profiles.\n",
    "\n",
    "## Setup"
   ]
  },
  {
   "cell_type": "code",
   "execution_count": null,
   "metadata": {},
   "source": [
    "import sys\n",
    "sys.path.append('..')\n",
    "\n",
    "from trading_simulation.trading_agents import TradingAgent\n",
    "from trading_simulation.trading_world import TradingWorld"
   ]
  },
  {
   "cell_type": "markdown",
   "metadata": {},
   "source": [
    "## Define Agent Personalities\n",
    "Let's create several agent personas with different trading characteristics."
   ]
  },
  {
   "cell_type": "code",
   "execution_count": null,
   "metadata": {},
   "source": [
    "# Value Investor\n",
    "value_investor = TradingAgent(\n",
    "    name='Value Investor',\n",
    "    initial_capital=100000,\n",
    "    risk_tolerance=0.3,\n",
    "    strategy_params={\n",
    "        'min_pe_ratio': 10,\n",
    "        'max_pe_ratio': 20,\n",
    "        'min_dividend_yield': 0.02\n",
    "    }\n",
    ")\n",
    "\n",
    "# Momentum Trader\n",
    "momentum_trader = TradingAgent(\n",
    "    name='Momentum Trader',\n",
    "    initial_capital=100000,\n",
    "    risk_tolerance=0.7,\n",
    "    strategy_params={\n",
    "        'momentum_period': 20,\n",
    "        'trend_threshold': 0.05\n",
    "    }\n",
    ")\n",
    "\n",
    "# News-Based Trader\n",
    "news_trader = TradingAgent(\n",
    "    name='News Trader',\n",
    "    initial_capital=100000,\n",
    "    risk_tolerance=0.6,\n",
    "    strategy_params={\n",
    "        'sentiment_threshold': 0.5,\n",
    "        'news_impact_window': 24  # hours\n",
    "    }\n",
    ")"
   ]
  },
  {
   "cell_type": "markdown",
   "metadata": {},
   "source": [
    "## Customize Trading Behavior\n",
    "Demonstrate how to modify agent behavior through custom trading rules."
   ]
  },
  {
   "cell_type": "code",
   "execution_count": null,
   "metadata": {},
   "source": [
    "# Custom trading rules\n",
    "def value_trading_rule(agent, market_data):\n",
    "    '''Example of a value-based trading strategy'''\n",
    "    for symbol, data in market_data.items():\n",
    "        pe_ratio = data['price'] / data['earnings_per_share']\n",
    "        if pe_ratio < agent.strategy_params['min_pe_ratio']:\n",
    "            return {'action': 'buy', 'symbol': symbol}\n",
    "        elif pe_ratio > agent.strategy_params['max_pe_ratio']:\n",
    "            return {'action': 'sell', 'symbol': symbol}\n",
    "    return {'action': 'hold'}\n",
    "# Assign custom trading rule to value investor value_investor.set_trading_rule(value_trading_rule)"
   ]
  },
  {
   "cell_type": "markdown",
   "metadata": {},
   "source": [
    "## Test Agent Behavior\n",
    "Let's test how our agents react to different market conditions."
   ]
  },
  {
   "cell_type": "code",
   "execution_count": null,
   "metadata": {},
   "source": [
    "# Create test market conditions\n",
    "test_market = {\n",
    "    'AAPL': {\n",
    "        'price': 150.0,\n",
    "        'earnings_per_share': 6.0,\n",
    "        'volume': 1000000,\n",
    "        'price_history': [145, 148, 152, 149, 150]\n",
    "    }\n",
    "}\n",
    "\n",
    "# Test each agent's response\n",
    "for agent in [value_investor, momentum_trader, news_trader]:\n",
    "    decision = agent.make_trading_decision(test_market)\n",
    "    print(f\"{agent.name}'s decision: {decision}\")"
   ]
  }
 ],
 "metadata": {
  "kernelspec": {
   "display_name": "Python 3",
   "language": "python",
   "name": "python3"
  },
  "language_info": {
   "codemirror_mode": {
    "name": "ipython",
    "version": 3
   },
   "file_extension": ".py",
   "mimetype": "text/x-python",
   "name": "python",
   "nbconvert_exporter": "python",
   "pygments_lexer": "ipython3",
   "version": "3.8.0"
  }
 },
 "nbformat": 4,
 "nbformat_minor": 4
}