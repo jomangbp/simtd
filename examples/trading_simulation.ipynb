{
 "cells": [
  {
   "cell_type": "markdown",
   "metadata": {},
   "source": [
    "# Trading Simulation Demo\n",
    "This notebook demonstrates how to use the trading simulation framework to create and run trading scenarios with multiple agents.\n",
    "\n",
    "## Setup and Configuration"
   ]
  },
  {
   "cell_type": "code",
   "execution_count": null,
   "metadata": {},
   "source": [
    "import sys\n",
    "sys.path.append('..')\n",
    "\n",
    "from trading_simulation.simulation_runner import SimulationRunner\n",
    "from trading_simulation.trading_agents import TradingAgent\n",
    "from trading_simulation.trading_world import TradingWorld\n",
    "from news_scraper import NewsScraperClient, ScraperConfig"
   ]
  },
  {
   "cell_type": "markdown",
   "metadata": {},
   "source": [
    "## Initialize News Scraper\n",
    "First, we'll set up the news scraper to fetch market news."
   ]
  },
  {
   "cell_type": "code",
   "execution_count": null,
   "metadata": {},
   "source": [
    "# Configure news scraper\n",
    "scraper_config = ScraperConfig(\n",
    "    base_url='https://api.marketdata.com',\n",
    "    api_key='YOUR_API_KEY',  # Replace with your API key\n",
    "    max_articles_per_request=50\n",
    ")\n",
    "\n",
    "news_scraper = NewsScraperClient(scraper_config)"
   ]
  },
  {
   "cell_type": "markdown",
   "metadata": {},
   "source": [
    "## Create Trading World\n",
    "Now we'll set up the trading environment with initial market conditions."
   ]
  },
  {
   "cell_type": "code",
   "execution_count": null,
   "metadata": {},
   "source": [
    "# Initialize trading world\n",
    "trading_world = TradingWorld(\n",
    "    initial_prices={'AAPL': 150.0, 'GOOGL': 2800.0},\n",
    "    news_scraper=news_scraper\n",
    ")"
   ]
  },
  {
   "cell_type": "markdown",
   "metadata": {},
   "source": [
    "## Create Trading Agents\n",
    "Let's create a few agents with different trading strategies."
   ]
  },
  {
   "cell_type": "code",
   "execution_count": null,
   "metadata": {},
   "source": [
    "# Create trading agents\n",
    "conservative_agent = TradingAgent(\n",
    "    name='Conservative Trader',\n",
    "    initial_capital=100000,\n",
    "    risk_tolerance=0.3\n",
    ")\n",
    "\n",
    "aggressive_agent = TradingAgent(\n",
    "    name='Aggressive Trader',\n",
    "    initial_capital=100000,\n",
    "    risk_tolerance=0.8\n",
    ")"
   ]
  },
  {
   "cell_type": "markdown",
   "metadata": {},
   "source": [
    "## Run Simulation\n",
    "Now we can run the trading simulation with our configured agents."
   ]
  },
  {
   "cell_type": "code",
   "execution_count": null,
   "metadata": {},
   "source": [
    "# Initialize simulation runner\n",
    "simulation = SimulationRunner(\n",
    "    world=trading_world,\n",
    "    agents=[conservative_agent, aggressive_agent],\n",
    "    simulation_days=30\n",
    ")\n",
    "\n",
    "# Run simulation\n",
    "results = simulation.run()"
   ]
  },
  {
   "cell_type": "markdown",
   "metadata": {},
   "source": [
    "## Analyze Results\n",
    "Let's analyze the performance of our trading agents."
   ]
  },
  {
   "cell_type": "code",
   "execution_count": null,
   "metadata": {},
   "source": [
    "# Plot agent performance\n",
    "import matplotlib.pyplot as plt\n",
    "\n",
    "plt.figure(figsize=(12, 6))\n",
    "for agent_name, performance in results['agent_performance'].items():\n",
    "    plt.plot(performance['portfolio_value'], label=agent_name)\n",
    "\n",
    "plt.title('Agent Portfolio Values Over Time')\n",
    "plt.xlabel('Trading Day')\n",
    "plt.ylabel('Portfolio Value ($)')\n",
    "plt.legend()\n",
    "plt.grid(True)\n",
    "plt.show()"
   ]
  }
 ],
 "metadata": {
  "kernelspec": {
   "display_name": "Python 3",
   "language": "python",
   "name": "python3"
  },
  "language_info": {
   "codemirror_mode": {
    "name": "ipython",
    "version": 3
   },
   "file_extension": ".py",
   "mimetype": "text/x-python",
   "name": "python",
   "nbconvert_exporter": "python",
   "pygments_lexer": "ipython3",
   "version": "3.8.0"
  }
 },
 "nbformat": 4,
 "nbformat_minor": 4
}